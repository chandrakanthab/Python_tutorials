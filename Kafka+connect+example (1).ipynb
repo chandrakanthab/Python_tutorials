{
 "cells": [
  {
   "cell_type": "code",
   "execution_count": null,
   "metadata": {
    "collapsed": false
   },
   "outputs": [],
   "source": [
    "# Install following python modules if not available already\n",
    "# pip install kafka-python\n",
    "# pip install python-twitter\n",
    "# pip install tweepy\n",
    "\n",
    "from tweepy.streaming import StreamListener\n",
    "from tweepy import OAuthHandler\n",
    "from tweepy import Stream\n",
    "from kafka import KafkaProducer, KafkaClient\n",
    "\n",
    "### Configuring Kafka\n",
    "\n",
    "access_token = \"enter your own credentials\"\n",
    "access_token_secret =  \"enter your own credentials\"\n",
    "consumer_key =  \"enter your own credentials\"\n",
    "consumer_secret =  \"enter your own credentials\"\n",
    "\n",
    "\n",
    "### Python class for sending the messages\n",
    "class KafkaListener(StreamListener):\n",
    "    def on_data(self, data):\n",
    "        producer.send(\"twitter\", data.encode('utf-8'))\n",
    "        print (data)\n",
    "        return True\n",
    "    def on_error(self, status):\n",
    "        print (status)\n",
    "\n",
    "bootstrap_servers = ['localhost:9092']\n",
    "topicName = 'twitter'\n",
    "producer = KafkaProducer(bootstrap_servers = bootstrap_servers)\n",
    "producer = KafkaProducer()\n",
    "\n",
    "listener = KafkaListener()\n",
    "\n",
    "auth = OAuthHandler(consumer_key, consumer_secret)\n",
    "auth.set_access_token(access_token, access_token_secret)\n",
    "stream = Stream(auth, listener)\n",
    "stream.filter(track=\"news\")"
   ]
  },
  {
   "cell_type": "code",
   "execution_count": null,
   "metadata": {
    "collapsed": true
   },
   "outputs": [],
   "source": []
  }
 ],
 "metadata": {
  "kernelspec": {
   "display_name": "Python [Root]",
   "language": "python",
   "name": "Python [Root]"
  },
  "language_info": {
   "codemirror_mode": {
    "name": "ipython",
    "version": 2
   },
   "file_extension": ".py",
   "mimetype": "text/x-python",
   "name": "python",
   "nbconvert_exporter": "python",
   "pygments_lexer": "ipython2",
   "version": "2.7.12"
  }
 },
 "nbformat": 4,
 "nbformat_minor": 4
}

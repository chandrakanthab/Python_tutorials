{
 "cells": [
  {
   "cell_type": "markdown",
   "id": "4a6e7374",
   "metadata": {},
   "source": [
    "### Regular Expression\n",
    "- Module Regular expressions specifies set of strings that Matches it , \n",
    "- To undertand Regular expressions its very important to understands its metacharacters\n",
    "- There are 14 metacharacters so far in regular expression will discuss thoroughly now\n",
    "</br></br></br>\n",
    "- **\\**   Used to drop the special meaning of character\n",
    "- following it (discussed below)\n",
    "- **[]** ->>  Represent a character class\n",
    "- **^**  ->>  Matches the beginning\n",
    "- **$** ->>   Matches the end\n",
    "- **.**  ->>   tches zero or one occurrence.\n",
    "- **|**  ->>  Means OR (Matches with any of the characters separated by it.\n",
    "- * ->>  ->>  Any number of occurrences (including 0 occurrences)\n",
    "- **+**  ->>  One or more occurrences\n",
    "- **{}** ->>  Indicate number of occurrences of a preceding RE \n",
    "    to match.\n",
    "- **()** ->>  Enclose a group of REs"
   ]
  },
  {
   "cell_type": "markdown",
   "id": "ff394819",
   "metadata": {},
   "source": [
    "### compile ()\n",
    "- to search or performed  any pattern in string  we have to compile the pattern , this compile function creates object to search the pattern "
   ]
  },
  {
   "cell_type": "code",
   "execution_count": 1,
   "id": "3371ab17",
   "metadata": {},
   "outputs": [],
   "source": [
    "# import \n",
    "import re"
   ]
  },
  {
   "cell_type": "code",
   "execution_count": 7,
   "id": "4ea3ce26",
   "metadata": {},
   "outputs": [
    {
     "name": "stdout",
     "output_type": "stream",
     "text": [
      "['e', 'a', 'd', 'b', 'e', 'a']\n",
      "['A', 'y', 'e', 's', 'a', 'i', 'd', 'M', 'r', 'G', 'i', 'b', 'e', 'n', 's', 'o', 'n', 'S', 't', 'a', 'r', 'k']\n"
     ]
    }
   ],
   "source": [
    "# [] - indicates group of words to search in the string \n",
    "pattern1 = re.compile('[a-e]') # which tells seach [abcde] in the given string\n",
    "\n",
    "print(pattern1.findall(\"Aye, said Mr. Gibenson Stark\"))\n",
    "\n",
    "# Lets search a-z characters in the above string\n",
    "# It wont find capital characters 'M' , 'G' because its case sensitive\n",
    "pattern2 = re.compile('[a-zA-Z]')\n",
    "print(pattern2.findall(\"Aye, said Mr. Gibenson Stark\"))\n",
    "\n",
    "\n"
   ]
  },
  {
   "cell_type": "markdown",
   "id": "efb5349f",
   "metadata": {},
   "source": [
    "- Metacharacter backslash ‘\\’ has a very important role as it signals various sequences. If the backslash is to be used without its special meaning as metacharacter, use’\\\\’"
   ]
  },
  {
   "cell_type": "code",
   "execution_count": null,
   "id": "64640961",
   "metadata": {},
   "outputs": [],
   "source": [
    "# \\d which indicates match any decimal  digits\n",
    "# \\D which indicates match any non decimal digits\n",
    "# \\w which indicates match any alphanumerics characters i.e. same as [a-zA-Z0-9_]\n",
    "# \\W which indicates match any non - alphanumerics characters \n",
    "# \\s which indicates match any spaces\n",
    "# \\S which indicates match any non spaces"
   ]
  },
  {
   "cell_type": "code",
   "execution_count": 10,
   "id": "185b7430",
   "metadata": {},
   "outputs": [
    {
     "name": "stdout",
     "output_type": "stream",
     "text": [
      "['3', '0', '7', '5']\n",
      "['30', '75']\n",
      "['t', 'h', 'i', 's', 'i', 's', 'c', 'h', 'a', 'n', 'd', 'r', 'a', '3', '0', 'a', 'g', 'e', 'a', 'n', 'd', 's', 'c', 'o', 'r', 'e', '7', '5']\n",
      "['this', 'is', 'chandra', '30', 'age', 'and', 'score', '75']\n"
     ]
    }
   ],
   "source": [
    "pattern1 = re.compile('\\d')\n",
    "\n",
    "print(pattern1.findall(\"this is chandra 30 age and score 75\"))\n",
    "# suppose if you want to combine 30 has one word and 70 has another word \n",
    "\n",
    "# '+'     group of patterns when one or more occurance \n",
    "pattern1 = re.compile('\\d+')\n",
    "print(pattern1.findall(\"this is chandra 30 age and score 75\"))\n",
    "\n",
    "# samething if youwant search any alphanumeric characters\n",
    "# split on every character\n",
    "pattern1 = re.compile('\\w')\n",
    "\n",
    "print(pattern1.findall(\"this is chandra 30 age and score 75\"))\n",
    "# suppose if you want to combine 30 has one word and 70 has another word \n",
    "\n",
    "# '+'     group of patterns when one or more occurance \n",
    "# split on every word separacted by spaced\n",
    "pattern1 = re.compile('\\w+')\n",
    "print(pattern1.findall(\"this is chandra 30 age and score 75\"))"
   ]
  },
  {
   "cell_type": "code",
   "execution_count": 13,
   "id": "d949758b",
   "metadata": {},
   "outputs": [
    {
     "name": "stdout",
     "output_type": "stream",
     "text": [
      "[' ', '-', ' ', ' ', ' ', ' ', '*', '*', ' ', ' ', '^', '&']\n",
      "[' -', ' a', ' n', ' n', ' *', ' c', ' ^']\n"
     ]
    }
   ],
   "source": [
    "# compile any non alphanumeric characters # Its includes spaces\n",
    "pattern1 = re.compile('\\W')\n",
    "print(pattern1.findall(\"Saerch - all non numeric ** char ^&\"))\n",
    "\n",
    "# If you dont want to spaces inlude '\\S'\n",
    "pattern1 = re.compile('\\W\\S')\n",
    "print(pattern1.findall(\"Saerch - all non numeric ** char ^&\"))\n"
   ]
  },
  {
   "cell_type": "code",
   "execution_count": 17,
   "id": "cd991092",
   "metadata": {},
   "outputs": [
    {
     "name": "stdout",
     "output_type": "stream",
     "text": [
      "['ab', 'ab', 'ab', 'ab']\n",
      "['abc']\n"
     ]
    }
   ],
   "source": [
    "# * - FInd all the matches which 0 or more occurance\n",
    "\n",
    "pattern1 = re.compile('ab')\n",
    "print(pattern1.findall('abaabbbabcabbb'))\n",
    "pattern1 = re.compile('abc')\n",
    "print(pattern1.findall('abaabbbabcabbb'))"
   ]
  },
  {
   "cell_type": "markdown",
   "id": "f5927932",
   "metadata": {},
   "source": [
    "## Split()\n",
    "- It will split the string based on pattern\n",
    "        split(pattern,string,maxsplit = 0,flags = 0)\n",
    "-  pattern is given pattern\n",
    "- string is given string \n",
    "- maxsplit = number of times string should be split based on pattern  if maxsplit is 1 than its split on first occurance only and length of list is 2\n",
    "- flags is to make split based on CASE SENSITIVE of not "
   ]
  },
  {
   "cell_type": "code",
   "execution_count": 29,
   "id": "78256985",
   "metadata": {},
   "outputs": [
    {
     "name": "stdout",
     "output_type": "stream",
     "text": [
      "[' this is ', ' digits string ', ' two splits']\n",
      "[' this is  ', ' digits string 534 two splits']\n",
      "['', ' ', '  ** ', ' ', ' ', ' ', ' ', ' ', ' --  ', '']\n",
      "['This', 'is', 'split', '2', 'based', 'on', 'grp', 'of', 'words']\n",
      "['On ', 'th Jan 2016, at 11:02 AM']\n",
      "['', 'y, ', 'oy oh ', 'oy, ', 'om', ' h', 'r', '']\n",
      "['A', 'y, Boy oh ', 'oy, ', 'om', ' h', 'r', '']\n"
     ]
    }
   ],
   "source": [
    "# split based on decimal digits \n",
    "print(re.split(\"\\d+\",\" this is 23 digits string 534 two splits\"))\n",
    "# If you want only one spli at first occurance than give max_split as '1'\n",
    "print(re.split(\"\\d+\",\" this is  23 digits string 534 two splits\",maxsplit = 1))\n",
    "\n",
    "# Split based on words \n",
    "print(re.split(\"\\w+\" ,\"This is  ** split 2 based on grp of --  words\"))\n",
    "\n",
    "# Split based on words \n",
    "print(re.split(\"\\W+\" ,\"This is  ** split 2 based on grp of --  words\"))\n",
    "\n",
    "  \n",
    "# Splitting will occurs only once, at '12', returned list will have length 2\n",
    "print(re.split('\\d+', 'On 12th Jan 2016, at 11:02 AM', 1))\n",
    "  \n",
    "# 'Boy' and 'boy' will be treated same when flags = re.IGNORECASE\n",
    "print(re.split('[a-f]+', 'Aey, Boy oh boy, come here', flags = re.IGNORECASE))\n",
    "# Here split based only on small case\n",
    "print(re.split('[a-f]+', 'Aey, Boy oh boy, come here'))\n"
   ]
  },
  {
   "cell_type": "markdown",
   "id": "5426091e",
   "metadata": {},
   "source": [
    "### Function sub()\n",
    "- Syntax\n",
    "        re.sub(pattern,repl,string,count = 0,flags = 0)\n",
    "-  pattern substring or pattern to search\n",
    "- repl - replace the give pattern with 'repl' \n",
    "- string - match in string\n",
    "- count -- number of time substring appeard in string \n",
    "- flgs  IGNORECASE"
   ]
  },
  {
   "cell_type": "code",
   "execution_count": 40,
   "id": "c4e39559",
   "metadata": {},
   "outputs": [
    {
     "name": "stdout",
     "output_type": "stream",
     "text": [
      "S*~ject is *~er here\n",
      "S*~ject is Uber here\n",
      "S*~ject is Uber here\n",
      "This is string with and and*because OAND Searches\n",
      "This is string with**because O*Searches\n"
     ]
    }
   ],
   "source": [
    "#  \n",
    "# Regular Expression pattern 'ub' matches the string at \"Subject\" and \"Uber\".\n",
    "# As the CASE has been ignored, using Flag, 'ub' should match twice with the string\n",
    "# Upon matching, 'ub' is replaced by '~*' in \"Subject\", and in \"Uber\", 'Ub' is replaced.\n",
    "print(re.sub(\"ub\",\"*~\",\"Subject is Uber here\",flags = re.IGNORECASE))\n",
    "\n",
    "# Consider the Case Sensitivity, 'Ub' in \"Uber\", will not be reaplced.\n",
    "print(re.sub(\"ub\",\"*~\",\"Subject is Uber here\"))\n",
    "\n",
    "# If count has given 1 than it should match and replace only one time\n",
    "print(re.sub(\"ub\",\"*~\",\"Subject is Uber here\",count = 1,flags = re.IGNORECASE))\n",
    "\n",
    "# 'r' before the patter denotes RE, \\s is for start and end of a String.\n",
    "# below pattern mean space 'AND' space\n",
    "print(re.sub(r'\\sAND\\s','*',\"This is string with and and AND because OAND Searches\"))\n",
    "print(re.sub(r'\\sAND\\s','*',\"This is string with and  AND because O AND Searches\",flags = re.IGNORECASE))\n",
    "\n"
   ]
  },
  {
   "cell_type": "markdown",
   "id": "2416c6df",
   "metadata": {},
   "source": [
    "### Function subn()\n",
    "- subn() is similar to sub() in all ways, except in its way to providing output. It returns a tuple with count of total of replacement and the new string rather than just the string. \n",
    "         re.subn(pattern, repl, string, count=0, flags=0)\n"
   ]
  },
  {
   "cell_type": "code",
   "execution_count": 41,
   "id": "60e2b0ab",
   "metadata": {},
   "outputs": [
    {
     "name": "stdout",
     "output_type": "stream",
     "text": [
      "('S~*ject has Uber booked already', 1)\n",
      "('S~*ject has ~*er booked already', 2)\n",
      "2\n",
      "S~*ject has ~*er booked already\n"
     ]
    }
   ],
   "source": [
    "print(re.subn('ub', '~*' , 'Subject has Uber booked already'))\n",
    "t = re.subn('ub', '~*' , 'Subject has Uber booked already', flags = re.IGNORECASE)\n",
    "print(t)\n",
    "print(len(t))\n",
    "  \n",
    "# This will give same output as sub() would have \n",
    "print(t[0])"
   ]
  },
  {
   "cell_type": "markdown",
   "id": "bcfbd5c0",
   "metadata": {},
   "source": [
    "### Function escape() \n",
    "-  Return string with all non-alphanumerics backslashed, this is useful if you want to match an arbitrary literal string that may have regular expression metacharacters in it."
   ]
  },
  {
   "cell_type": "code",
   "execution_count": 43,
   "id": "b35d31bf",
   "metadata": {},
   "outputs": [
    {
     "name": "stdout",
     "output_type": "stream",
     "text": [
      "this\\ is\\ chandu\n",
      "thi\\ is\\ \\*\\ and\\ we\\ are\\ \\*\\ \\$%\\ \\{\\}\\ \\[\\]\n"
     ]
    }
   ],
   "source": [
    " \n",
    "# escape() returns a string with BackSlash '\\', before every Non-Alphanumeric Character\n",
    "# In 1st case only ' ', is not alphanumeric\n",
    "# In 2nd case, ' ', caret '^', '-', '[]', '\\' are not alphanumeric\n",
    "\n",
    "print(re.escape(\"this is chandu\"))\n",
    "print(re.escape(\"thi is * and we are * $% {} []\"))"
   ]
  },
  {
   "cell_type": "code",
   "execution_count": 48,
   "id": "377d381a",
   "metadata": {},
   "outputs": [
    {
     "name": "stdout",
     "output_type": "stream",
     "text": [
      "Given Data: Jun 24\n",
      "Month: Jun\n",
      "Day: 24\n",
      "\n",
      "Not a valid date\n"
     ]
    }
   ],
   "source": [
    "# A Python program to demonstrate working\n",
    "# of re.match().\n",
    "   \n",
    "# a sample function that uses regular expressions\n",
    "# to find month and day of a date.\n",
    "def findMonthAndDate(string):\n",
    "       \n",
    "    regex = r\"([a-zA-Z]+) (\\d+)\"\n",
    "    match = re.match(regex, string)\n",
    "       \n",
    "    if match == None: \n",
    "        print (\"Not a valid date\")\n",
    "        return\n",
    "   \n",
    "    print (\"Given Data: %s\" % (match.group()))\n",
    "    print (\"Month: %s\" % (match.group(1)))\n",
    "    print (\"Day: %s\" % (match.group(2)))\n",
    "   \n",
    "       \n",
    "# Driver Code\n",
    "findMonthAndDate(\"Jun 24\")\n",
    "print(\"\")\n",
    "findMonthAndDate(\"I was born on June 24\")"
   ]
  },
  {
   "cell_type": "code",
   "execution_count": 50,
   "id": "bab1b034",
   "metadata": {},
   "outputs": [
    {
     "name": "stdout",
     "output_type": "stream",
     "text": [
      "Given Data: Jun 24\n",
      "Month: Jun\n",
      "Day: 24\n",
      "\n",
      "Not a valid date\n"
     ]
    }
   ],
   "source": [
    "# A Python program to demonstrate working\n",
    "# of re.match().\n",
    "   \n",
    "# a sample function that uses regular expressions\n",
    "# to find month and day of a date.\n",
    "def findMonthAndDate(string):\n",
    "       \n",
    "    regex = r\"([a-zA-Z]+) (\\d+)\"\n",
    "    match = re.search(regex, string)\n",
    "       \n",
    "    if match == None: \n",
    "        print (\"Not a valid date\")\n",
    "        return\n",
    "   \n",
    "    print (\"Given Data: %s\" % (match.group()))\n",
    "    print (\"Month: %s\" % (match.group(1)))\n",
    "    print (\"Day: %s\" % (match.group(2)))\n",
    "   \n",
    "       \n",
    "# Driver Code\n",
    "findMonthAndDate(\"Jun 24\")\n",
    "print(\"\")\n",
    "findMonthAndDate(\"I was born on June 24\")"
   ]
  },
  {
   "cell_type": "code",
   "execution_count": 57,
   "id": "70e2ea4d",
   "metadata": {},
   "outputs": [
    {
     "name": "stdout",
     "output_type": "stream",
     "text": [
      "found word:cater\n"
     ]
    }
   ],
   "source": [
    "\n",
    "# Search Word elong with three any alphanumeric characters\n",
    "str = 'an example word:cater!!'\n",
    "match = re.search(r'word:\\w\\w\\w\\w\\w', str)\n",
    "# If-statement after search() tests if it succeeded\n",
    "if match:\n",
    "    print('found', match.group()) ## 'found word:cat')\n",
    "else:\n",
    "    print('did not find')"
   ]
  },
  {
   "cell_type": "code",
   "execution_count": 61,
   "id": "ea7802d4",
   "metadata": {},
   "outputs": [
    {
     "name": "stdout",
     "output_type": "stream",
     "text": [
      "<re.Match object; span=(1, 4), match='iii'>\n",
      "None\n"
     ]
    }
   ],
   "source": [
    "## Search for pattern 'iii' in string 'piiig'.\n",
    "  ## All of the pattern must match, but it may appear anywhere.\n",
    "  ## On success, match.group() is matched text.\n",
    "\n",
    "print(re.search(r'iii',\"piiig\"))\n",
    "print(re.search(r'igi',\"piiig\"))"
   ]
  },
  {
   "cell_type": "code",
   "execution_count": 63,
   "id": "d92b1e7f",
   "metadata": {},
   "outputs": [
    {
     "name": "stdout",
     "output_type": "stream",
     "text": [
      "ang\n",
      "123\n",
      "abc\n"
     ]
    }
   ],
   "source": [
    "## if you want to search . = any char but  at the end of string \\n\n",
    "# Search of g at the end and print before two chracters\n",
    "print(re.search(\"..g\",\"indiang\").group())\n",
    "\n",
    "## \\d = digit char, \\w = word char\n",
    "match = re.search(r'\\d\\d\\d', 'p123g') # found, match.group() == \"123\"\n",
    "print(match.group())\n",
    "match = re.search(r'\\w\\w\\w', '@@abcd!!') # found, match.group() == \"abc\"\n",
    "print(match.group())"
   ]
  },
  {
   "cell_type": "markdown",
   "id": "1433a795",
   "metadata": {},
   "source": [
    "### Repetition\n",
    "- '+' -- 1 or more occurrences of the pattern to its left, e.g. 'i+' = one or more i's\n",
    "- '*' -- 0 or more occurrences of the pattern to its left\n",
    "- '?' -- match 0 or 1 occurrences of the pattern to its left"
   ]
  },
  {
   "cell_type": "code",
   "execution_count": 71,
   "id": "3b9bc521",
   "metadata": {},
   "outputs": [
    {
     "name": "stdout",
     "output_type": "stream",
     "text": [
      "piii\n",
      "abb\n",
      "ii\n"
     ]
    }
   ],
   "source": [
    "  ## i+ = one or more i's, as many as possible.\n",
    "\n",
    "match = re.search(r'pi+', 'piiig') # found, match.group() == \"piii\"\n",
    "print(match.group())\n",
    "\n",
    "match = re.search(r'ab+','aaabbabaaaa')\n",
    "print(match.group())\n",
    "\n",
    "## Finds the first/leftmost solution, and within it drives the +\n",
    "  ## as far as possible (aka 'leftmost and largest').\n",
    "  ## In this example, note that it does not get to the second set of i's.\n",
    "match = re.search(r'i+', 'piigiiii') # found, match.group() == \"ii\"\n",
    "print(match.group())"
   ]
  },
  {
   "cell_type": "code",
   "execution_count": 81,
   "id": "c129601d",
   "metadata": {},
   "outputs": [
    {
     "name": "stdout",
     "output_type": "stream",
     "text": [
      "1 2 2\n",
      "122\n",
      "bar\n"
     ]
    }
   ],
   "source": [
    "# * how to check for digits\n",
    "# look for 3 digits separated by white spaces\n",
    "# * will check either zero or more number of spaces\n",
    "match = re.search(r'\\d\\s*\\d\\s*\\d\\s*' ,\"xxx 1 2 2xx x3x\")\n",
    "print(match.group())\n",
    "\n",
    "match = re.search(r'\\d\\s*\\d\\s*\\d\\s*' ,\"xxx122xxx3x\")\n",
    "print(match.group())\n",
    "\n",
    "## ^ = matches the start of string, so this fails:\n",
    "match = re.search(r'^b\\w+', 'foobar') # not found, match == None\n",
    "#print(match.group())\n",
    "  ## but without the ^ it succeeds:\n",
    "match = re.search(r'b\\w+', 'foobar') # found, match.group() == \"bar\"\n",
    "print(match.group())\n",
    "\n"
   ]
  },
  {
   "cell_type": "code",
   "execution_count": 84,
   "id": "36a0b76e",
   "metadata": {},
   "outputs": [
    {
     "name": "stdout",
     "output_type": "stream",
     "text": [
      "chanduab@gmail.com\n"
     ]
    }
   ],
   "source": [
    "# extraction of emails\n",
    "str1 = \"this is email  chanduab@gmail.com\"\n",
    "\n",
    "match =  re.search(r\"\\w+@\\w+.\\w+\",str1)\n",
    "if match:\n",
    "    print(match.group())\n"
   ]
  },
  {
   "cell_type": "code",
   "execution_count": 89,
   "id": "7d8875e8",
   "metadata": {},
   "outputs": [
    {
     "name": "stdout",
     "output_type": "stream",
     "text": [
      "chandui-bachu@gmail\n",
      "chandui.bachu@gmail\n"
     ]
    }
   ],
   "source": [
    "#Square brackets can be used to indicate a set of chars, so [abc] matches 'a' or 'b' or 'c'. The codes \\w, \\s etc.\n",
    "\n",
    "str1 = \"this is  chandui-bachu@gmail.com\"\n",
    "match =  re.search(r\"\\w+[-._]\\w+@\\w.\\w+\",str1)\n",
    "if match:\n",
    "    print(match.group())\n",
    "    \n",
    "str1 = \"this is  chandui.bachu@gmail.com\"\n",
    "match =  re.search(r\"\\w+[-._]\\w+@\\w.\\w+\",str1)\n",
    "if match:\n",
    "    print(match.group())"
   ]
  },
  {
   "cell_type": "markdown",
   "id": "30c5ca54",
   "metadata": {},
   "source": [
    "### Group Extraction\n",
    "- The \"group\" feature of a regular expression allows you to pick out parts of the matching text. Suppose for the emails problem that we want to extract the username and host separately. To do this, add parenthesis ( ) around the username and host in the pattern, like this: r'([\\w.-]+)@([\\w.-]+)'. In this case, the parenthesis do not change what the pattern will match, instead they establish logical \"groups\" inside of the match text. On a successful search, match.group(1) is the match text corresponding to the 1st left parenthesis, and match.group(2) is the text corresponding to the 2nd left parenthesis. The plain match.group() is still the whole match text as usual."
   ]
  },
  {
   "cell_type": "code",
   "execution_count": 93,
   "id": "18486056",
   "metadata": {},
   "outputs": [
    {
     "name": "stdout",
     "output_type": "stream",
     "text": [
      "chandui.bachu@gmail.com\n",
      "chandui.bachu\n",
      "gmail\n"
     ]
    }
   ],
   "source": [
    "# If we want to extract username as wll as domain name  i.e. like gmail,yahoo etc.\n",
    "str1 = \"this is  chandui.bachu@gmail.com\"\n",
    "match =  re.search(r\"(\\w+[-._]\\w+)@(\\w+).\\w+\",str1)\n",
    "if match:\n",
    "    print(match.group())\n",
    "    print(match.group(1))\n",
    "    print(match.group(2))"
   ]
  },
  {
   "cell_type": "code",
   "execution_count": 98,
   "id": "75c8ab85",
   "metadata": {},
   "outputs": [
    {
     "name": "stdout",
     "output_type": "stream",
     "text": [
      "['chandui.bachu@gmail']\n",
      "['chandui.bachu@gmail', 'chandubachu@gmail']\n"
     ]
    }
   ],
   "source": [
    "# If we want to extract username as wll as domain name  i.e. like gmail,yahoo etc.\n",
    "str1 = \"this is  chandui.bachu@gmail.com this is another chandubachu@gmail.com\"\n",
    "match =  re.findall(r\"\\w+[-._]\\w+@\\w.\\w+\",str1)\n",
    "print(match)\n",
    "\n",
    "# If we want to extract username as wll as domain name  i.e. like gmail,yahoo etc.\n",
    "str1 = \"this is  chandui.bachu@gmail.com this is another chandubachu@gmail.com\"\n",
    "match =  re.findall(r\"\\w+[-._]*\\w+@\\w.\\w+\",str1)\n",
    "print(match)"
   ]
  },
  {
   "cell_type": "code",
   "execution_count": null,
   "id": "a7fa136b",
   "metadata": {},
   "outputs": [],
   "source": []
  }
 ],
 "metadata": {
  "kernelspec": {
   "display_name": "Python 3",
   "language": "python",
   "name": "python3"
  },
  "language_info": {
   "codemirror_mode": {
    "name": "ipython",
    "version": 3
   },
   "file_extension": ".py",
   "mimetype": "text/x-python",
   "name": "python",
   "nbconvert_exporter": "python",
   "pygments_lexer": "ipython3",
   "version": "3.8.8"
  }
 },
 "nbformat": 4,
 "nbformat_minor": 5
}
